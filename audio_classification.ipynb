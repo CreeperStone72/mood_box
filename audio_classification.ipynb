{
 "cells": [
  {
   "cell_type": "code",
   "execution_count": null,
   "id": "initial_id",
   "metadata": {
    "collapsed": true
   },
   "outputs": [],
   "source": [
    "from huggingface_hub import interpreter_login"
   ]
  },
  {
   "cell_type": "code",
   "outputs": [],
   "source": [
    "# Write token required\n",
    "interpreter_login()"
   ],
   "metadata": {
    "collapsed": false
   },
   "id": "dc12dca67dbe5e2b",
   "execution_count": null
  },
  {
   "cell_type": "markdown",
   "source": [
    "# Load dataset"
   ],
   "metadata": {
    "collapsed": false
   },
   "id": "1e2ecda7063b5083"
  },
  {
   "cell_type": "code",
   "outputs": [],
   "source": [
    "!pip install datasets transformers evaluate transformers[torch]"
   ],
   "metadata": {
    "collapsed": false
   },
   "id": "8b086025e62b907e"
  },
  {
   "cell_type": "code",
   "outputs": [],
   "source": [
    "from datasets import load_dataset, Audio"
   ],
   "metadata": {
    "collapsed": false,
    "ExecuteTime": {
     "end_time": "2024-02-16T15:38:08.742476Z",
     "start_time": "2024-02-16T15:38:06.729510Z"
    }
   },
   "id": "620a1b1e4c493069",
   "execution_count": 1
  },
  {
   "cell_type": "code",
   "outputs": [],
   "source": [
    "minds = load_dataset(\"EdwardLin2023/AESDD\", name=\"AESDD\", split=\"train\", trust_remote_code=True)\n",
    "minds = minds.train_test_split(test_size=0.2)\n",
    "minds = minds.remove_columns([\"path\", \"utterance\", \"speaker\"])"
   ],
   "metadata": {
    "collapsed": false,
    "ExecuteTime": {
     "end_time": "2024-02-16T15:38:12.204569Z",
     "start_time": "2024-02-16T15:38:10.095446Z"
    }
   },
   "id": "a2fbe6cbade31b54",
   "execution_count": 2
  },
  {
   "cell_type": "code",
   "outputs": [
    {
     "data": {
      "text/plain": "DatasetDict({\n    train: Dataset({\n        features: ['audio', 'label'],\n        num_rows: 483\n    })\n    test: Dataset({\n        features: ['audio', 'label'],\n        num_rows: 121\n    })\n})"
     },
     "execution_count": 3,
     "metadata": {},
     "output_type": "execute_result"
    }
   ],
   "source": [
    "minds"
   ],
   "metadata": {
    "collapsed": false,
    "ExecuteTime": {
     "end_time": "2024-02-16T15:38:13.957024Z",
     "start_time": "2024-02-16T15:38:13.943740Z"
    }
   },
   "id": "fb1848fcb2d0d371",
   "execution_count": 3
  },
  {
   "cell_type": "code",
   "outputs": [],
   "source": [
    "labels = minds[\"train\"].features[\"label\"].names\n",
    "label2id, id2label = dict(), dict()\n",
    "\n",
    "for i, label in enumerate(labels):\n",
    "    label2id[label] = str(i)\n",
    "    id2label[str(i)] = label"
   ],
   "metadata": {
    "collapsed": false,
    "ExecuteTime": {
     "end_time": "2024-02-16T15:38:16.190190Z",
     "start_time": "2024-02-16T15:38:16.183198Z"
    }
   },
   "id": "e901f951f8a7d189",
   "execution_count": 4
  },
  {
   "cell_type": "code",
   "outputs": [
    {
     "data": {
      "text/plain": "'fear'"
     },
     "execution_count": 5,
     "metadata": {},
     "output_type": "execute_result"
    }
   ],
   "source": [
    "id2label[str(2)]"
   ],
   "metadata": {
    "collapsed": false,
    "ExecuteTime": {
     "end_time": "2024-02-16T15:38:18.495323Z",
     "start_time": "2024-02-16T15:38:18.483301Z"
    }
   },
   "id": "f21ff431564afa9d",
   "execution_count": 5
  },
  {
   "cell_type": "markdown",
   "source": [
    "# Preprocess"
   ],
   "metadata": {
    "collapsed": false
   },
   "id": "bf1b02e1e1e5774c"
  },
  {
   "cell_type": "code",
   "outputs": [],
   "source": [
    "from transformers import AutoFeatureExtractor"
   ],
   "metadata": {
    "collapsed": false,
    "ExecuteTime": {
     "end_time": "2024-02-16T15:38:25.686115Z",
     "start_time": "2024-02-16T15:38:20.829462Z"
    }
   },
   "id": "aaf50402f10fc6ca",
   "execution_count": 6
  },
  {
   "cell_type": "code",
   "outputs": [
    {
     "name": "stderr",
     "output_type": "stream",
     "text": [
      "D:\\_GitHub\\PYTHON\\MoodBox\\.venv\\lib\\site-packages\\transformers\\configuration_utils.py:365: UserWarning: Passing `gradient_checkpointing` to a config initialization is deprecated and will be removed in v5 Transformers. Using `model.gradient_checkpointing_enable()` instead, or if you are using the `Trainer` API, pass `gradient_checkpointing=True` in your `TrainingArguments`.\n",
      "  warnings.warn(\n"
     ]
    }
   ],
   "source": [
    "feature_extractor = AutoFeatureExtractor.from_pretrained(\"facebook/wav2vec2-base\")"
   ],
   "metadata": {
    "collapsed": false,
    "ExecuteTime": {
     "end_time": "2024-02-16T15:38:26.724908Z",
     "start_time": "2024-02-16T15:38:26.421406Z"
    }
   },
   "id": "9f1b7487a36015ee",
   "execution_count": 7
  },
  {
   "cell_type": "code",
   "outputs": [],
   "source": [
    "minds = minds.cast_column(\"audio\", Audio(sampling_rate=16_000))"
   ],
   "metadata": {
    "collapsed": false,
    "ExecuteTime": {
     "end_time": "2024-02-16T15:38:38.129546Z",
     "start_time": "2024-02-16T15:38:38.058955Z"
    }
   },
   "id": "3d86a3e429a486a3",
   "execution_count": 8
  },
  {
   "cell_type": "code",
   "outputs": [],
   "source": [
    "def preprocess_function(examples):\n",
    "    print(examples)\n",
    "    audio_arrays = [x[\"array\"] for x in examples[\"audio\"]]\n",
    "    \n",
    "    inputs = feature_extractor(\n",
    "        audio_arrays, sampling_rate=feature_extractor.sampling_rate, max_length=16_000, truncation=True\n",
    "    )\n",
    "    \n",
    "    return inputs"
   ],
   "metadata": {
    "collapsed": false,
    "ExecuteTime": {
     "end_time": "2024-02-16T15:38:43.279356Z",
     "start_time": "2024-02-16T15:38:43.260821Z"
    }
   },
   "id": "34007630b6e4ecb4",
   "execution_count": 9
  },
  {
   "cell_type": "code",
   "outputs": [
    {
     "data": {
      "text/plain": "Map:   0%|          | 0/483 [00:00<?, ? examples/s]",
      "application/vnd.jupyter.widget-view+json": {
       "version_major": 2,
       "version_minor": 0,
       "model_id": "be148cb7b45341bb9e6bb74349f00709"
      }
     },
     "metadata": {},
     "output_type": "display_data"
    }
   ],
   "source": [
    "encoded_minds = minds.map(preprocess_function, remove_columns=\"audio\", batched=True)"
   ],
   "metadata": {
    "collapsed": false,
    "is_executing": true,
    "ExecuteTime": {
     "start_time": "2024-02-16T15:38:49.856265Z"
    }
   },
   "id": "18435dc2547e94ff",
   "execution_count": null
  },
  {
   "cell_type": "markdown",
   "source": [
    "# Evaluate"
   ],
   "metadata": {
    "collapsed": false
   },
   "id": "8efa0162d9feaa92"
  },
  {
   "cell_type": "code",
   "outputs": [],
   "source": [
    "import evaluate"
   ],
   "metadata": {
    "collapsed": false
   },
   "id": "13ea35c393c60ba8",
   "execution_count": null
  },
  {
   "cell_type": "code",
   "outputs": [],
   "source": [
    "accuracy = evaluate.load(\"accuracy\")"
   ],
   "metadata": {
    "collapsed": false
   },
   "id": "279ceff9a3ae798f",
   "execution_count": null
  },
  {
   "cell_type": "code",
   "outputs": [],
   "source": [
    "import numpy as np"
   ],
   "metadata": {
    "collapsed": false
   },
   "id": "66045f78f5c5386b",
   "execution_count": null
  },
  {
   "cell_type": "code",
   "outputs": [],
   "source": [
    "def compute_metrics(eval_pred):\n",
    "    predictions = np.argmax(eval_pred.predictions, axis=1)\n",
    "    return accuracy.compute(predictions=predictions, references=eval_pred.label_ids)"
   ],
   "metadata": {
    "collapsed": false
   },
   "id": "fa4bedae71ffc10a",
   "execution_count": null
  },
  {
   "cell_type": "markdown",
   "source": [
    "# Train"
   ],
   "metadata": {
    "collapsed": false
   },
   "id": "b92f1b5f56c548b4"
  },
  {
   "cell_type": "code",
   "outputs": [],
   "source": [
    "from transformers import AutoModelForAudioClassification, TrainingArguments, Trainer"
   ],
   "metadata": {
    "collapsed": false
   },
   "id": "650940c1d35d6ce2",
   "execution_count": null
  },
  {
   "cell_type": "code",
   "outputs": [],
   "source": [
    "num_labels = len(id2label)\n",
    "model = AutoModelForAudioClassification.from_pretrained(\"facebook/wav2vec2-base\", num_labels=num_labels, label2id=label2id, id2label=id2label)"
   ],
   "metadata": {
    "collapsed": false
   },
   "id": "ef8cf69cd705dcdd",
   "execution_count": null
  },
  {
   "cell_type": "code",
   "outputs": [],
   "source": [
    "training_args = TrainingArguments(\n",
    "    output_dir=\"mood_box\",\n",
    "    evaluation_strategy=\"epoch\",\n",
    "    save_strategy=\"epoch\",\n",
    "    learning_rate=3e-5,\n",
    "    per_device_train_batch_size=32,\n",
    "    gradient_accumulation_steps=4,\n",
    "    per_device_eval_batch_size=32,\n",
    "    num_train_epochs=10,\n",
    "    warmup_ratio=0.1,\n",
    "    logging_steps=10,\n",
    "    load_best_model_at_end=True,\n",
    "    metric_for_best_model=\"accuracy\",\n",
    "    push_to_hub=True\n",
    ")"
   ],
   "metadata": {
    "collapsed": false
   },
   "id": "f20f8bf29ae5429",
   "execution_count": null
  },
  {
   "cell_type": "code",
   "outputs": [],
   "source": [
    "trainer = Trainer(\n",
    "    model=model,\n",
    "    args=training_args,\n",
    "    train_dataset=encoded_minds[\"train\"].with_format(\"torch\"),\n",
    "    eval_dataset=encoded_minds[\"test\"].with_format(\"torch\"),\n",
    "    tokenizer=feature_extractor,\n",
    "    compute_metrics=compute_metrics\n",
    ")"
   ],
   "metadata": {
    "collapsed": false
   },
   "id": "21626be0b679953f",
   "execution_count": null
  },
  {
   "cell_type": "code",
   "outputs": [],
   "source": [
    "trainer.train()"
   ],
   "metadata": {
    "collapsed": false
   },
   "id": "244e1c220fe804d8",
   "execution_count": null
  },
  {
   "cell_type": "code",
   "outputs": [],
   "source": [
    "trainer.push_to_hub()"
   ],
   "metadata": {
    "collapsed": false
   },
   "id": "ea4dc18a6e6ed397",
   "execution_count": null
  }
 ],
 "metadata": {
  "kernelspec": {
   "display_name": "Python 3",
   "language": "python",
   "name": "python3"
  },
  "language_info": {
   "codemirror_mode": {
    "name": "ipython",
    "version": 2
   },
   "file_extension": ".py",
   "mimetype": "text/x-python",
   "name": "python",
   "nbconvert_exporter": "python",
   "pygments_lexer": "ipython2",
   "version": "2.7.6"
  }
 },
 "nbformat": 4,
 "nbformat_minor": 5
}
